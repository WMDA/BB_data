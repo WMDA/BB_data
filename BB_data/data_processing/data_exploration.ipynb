{
 "cells": [
  {
   "cell_type": "code",
   "execution_count": 1,
   "metadata": {},
   "outputs": [],
   "source": [
    "from functions import data_functions as data"
   ]
  },
  {
   "cell_type": "code",
   "execution_count": 2,
   "metadata": {},
   "outputs": [],
   "source": [
    "df = data.data('questionnaire_data.csv','t2')"
   ]
  },
  {
   "cell_type": "code",
   "execution_count": 3,
   "metadata": {},
   "outputs": [
    {
     "data": {
      "text/plain": [
       "(149, 179)"
      ]
     },
     "execution_count": 3,
     "metadata": {},
     "output_type": "execute_result"
    }
   ],
   "source": [
    "df.shape"
   ]
  },
  {
   "cell_type": "code",
   "execution_count": 4,
   "metadata": {},
   "outputs": [
    {
     "name": "stdout",
     "output_type": "stream",
     "text": [
      "(2, 179)\n",
      "                               1    2    3    4    5    6    7           8\n",
      "176  514967-514958-85368090  NaN  NaN  NaN  NaN  NaN  NaN  NaN         NaN\n",
      "181  514967-514958-87611797  Yes  Yes  Yes  Yes  NaN  Yes  NaN  08/02/2021\n"
     ]
    }
   ],
   "source": [
    "null_values = df[df['7'].isnull()]\n",
    "print(null_values.shape)\n",
    "print(null_values.iloc[0:,0:9]) "
   ]
  },
  {
   "cell_type": "code",
   "execution_count": 5,
   "metadata": {},
   "outputs": [
    {
     "name": "stdout",
     "output_type": "stream",
     "text": [
      "Int64Index([72, 121, 136, 138, 139, 141, 143, 144, 152, 156, 158, 159, 160,\n",
      "            167, 178, 182],\n",
      "           dtype='int64')\n",
      "72     B2025\n",
      "121    B1040\n",
      "136    B2090\n",
      "138    B2999\n",
      "139    B2076\n",
      "141    B2018\n",
      "143     1009\n",
      "144    B1031\n",
      "152    B2033\n",
      "156    B2043\n",
      "158    B2039\n",
      "159     2030\n",
      "160    B2083\n",
      "167    B2088\n",
      "178    B2047\n",
      "182     2065\n",
      "Name: 7, dtype: object\n"
     ]
    }
   ],
   "source": [
    "duplicates = df[df['8'].duplicated()]\n",
    "print(duplicates.index)\n",
    "print(duplicates['7'])"
   ]
  },
  {
   "cell_type": "markdown",
   "metadata": {},
   "source": [
    "B2025 - two B2025 values\n",
    "B1040 - not a repeat someone else has same DoB\n",
    "B2090 - two B2090 (138, 131 )\n",
    "B2999 - drop as b2091 is first round\n",
    "B2076 - two (111, 141)\n",
    "B2018 two (86, 143 )\n",
    "1009 - drop as orginal is B1009\n",
    "B1031 - duplicate. Orginal one has a space after B1031.\n",
    "B2033 - two B2033\n",
    "B2043 - two B2043\n",
    "B2039 - two B2039\n",
    "2030 -  B2030 original\n",
    "B2083 - two B2083\n",
    "B2088 - two B2088\n",
    "B2047 - two B2047\n",
    "2065 - drop as B2065 is original"
   ]
  },
  {
   "cell_type": "code",
   "execution_count": 6,
   "metadata": {},
   "outputs": [
    {
     "name": "stdout",
     "output_type": "stream",
     "text": [
      "Int64Index([72, 136, 139, 141, 144, 152, 156, 158, 160, 167, 178, 181], dtype='int64')\n",
      "72     B2025\n",
      "136    B2090\n",
      "139    B2076\n",
      "141    B2018\n",
      "144    B1031\n",
      "152    B2033\n",
      "156    B2043\n",
      "158    B2039\n",
      "160    B2083\n",
      "167    B2088\n",
      "178    B2047\n",
      "181      NaN\n",
      "Name: 7, dtype: object\n"
     ]
    }
   ],
   "source": [
    "duplicates_b = df[df['7'].duplicated()]\n",
    "print(duplicates_b.index)\n",
    "print(duplicates_b['7'])"
   ]
  },
  {
   "cell_type": "code",
   "execution_count": 7,
   "metadata": {},
   "outputs": [],
   "source": [
    "dropindex = [72, 136, 138, 139, 141, 143, 144, 152, 156, 158, 159, 160, 176, 178, 181]"
   ]
  },
  {
   "cell_type": "code",
   "execution_count": 9,
   "metadata": {},
   "outputs": [],
   "source": [
    "cleaned_df = data.data('questionnaire_data.csv','t2', clean=True, drop_index=dropindex)"
   ]
  },
  {
   "cell_type": "code",
   "execution_count": 10,
   "metadata": {},
   "outputs": [
    {
     "data": {
      "text/plain": [
       "(134, 179)"
      ]
     },
     "execution_count": 10,
     "metadata": {},
     "output_type": "execute_result"
    }
   ],
   "source": [
    "cleaned_df.shape"
   ]
  },
  {
   "cell_type": "code",
   "execution_count": 13,
   "metadata": {},
   "outputs": [],
   "source": [
    "hc = cleaned_df[cleaned_df['7'].str.contains('B1')]\n",
    "aan = cleaned_df[cleaned_df['7'].str.contains('B2')]"
   ]
  },
  {
   "cell_type": "code",
   "execution_count": null,
   "metadata": {},
   "outputs": [],
   "source": []
  }
 ],
 "metadata": {
  "interpreter": {
   "hash": "3d8d249037c454a3c5c4d5ca5bd7d691a5e26e3b374c1cc9a047e4dcb697a865"
  },
  "kernelspec": {
   "display_name": "Python 3.9.7 ('base')",
   "language": "python",
   "name": "python3"
  },
  "language_info": {
   "codemirror_mode": {
    "name": "ipython",
    "version": 3
   },
   "file_extension": ".py",
   "mimetype": "text/x-python",
   "name": "python",
   "nbconvert_exporter": "python",
   "pygments_lexer": "ipython3",
   "version": "3.9.5"
  },
  "orig_nbformat": 4
 },
 "nbformat": 4,
 "nbformat_minor": 2
}
