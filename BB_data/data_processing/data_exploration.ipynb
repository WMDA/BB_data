{
 "cells": [
  {
   "cell_type": "code",
   "execution_count": 6,
   "metadata": {},
   "outputs": [
    {
     "name": "stdout",
     "output_type": "stream",
     "text": [
      "Collecting python-decouple\n",
      "  Using cached python_decouple-3.6-py3-none-any.whl (9.9 kB)\n",
      "Installing collected packages: python-decouple\n",
      "Successfully installed python-decouple-3.6\n"
     ]
    }
   ],
   "source": [
    "!pip install python-decouple"
   ]
  },
  {
   "cell_type": "code",
   "execution_count": 87,
   "metadata": {},
   "outputs": [],
   "source": [
    "import pandas as pd\n",
    "from decouple import config\n",
    "import re\n",
    "import os"
   ]
  },
  {
   "cell_type": "code",
   "execution_count": 88,
   "metadata": {},
   "outputs": [],
   "source": [
    "try:\n",
    "    t2 = config('t2')\n",
    "\n",
    "except Exception:\n",
    "    \n",
    "    #This is an extremely hacky way to get the .env file on my system when using juptyer notebooks. Try and make the decouple way work\n",
    "    \n",
    "    filepath = []\n",
    "    env_file_location = os.path.split(os.path.split(os.environ['PWD'])[0])[0]\n",
    "    \n",
    "    with open(f'{env_file_location}/.env', 'r') as env:\n",
    "        for line in env:\n",
    "            if 't2' in line:\n",
    "                filepath.append(line)\n",
    "\n",
    "    t2 = re.findall(r'/.*/*',filepath[0])[0]"
   ]
  },
  {
   "cell_type": "code",
   "execution_count": 90,
   "metadata": {},
   "outputs": [],
   "source": [
    "df = pd.read_csv(f'{t2}/questionnaire_data.csv')\n",
    "df.rename(columns=lambda x: re.sub(r'\\D','', x) , inplace=True)"
   ]
  },
  {
   "cell_type": "code",
   "execution_count": 92,
   "metadata": {},
   "outputs": [
    {
     "name": "stdout",
     "output_type": "stream",
     "text": [
      "(5, 179)\n",
      "Int64Index([47, 153, 169, 176, 181], dtype='int64')\n"
     ]
    }
   ],
   "source": [
    "null_values = df[df['7'].isnull()]\n",
    "print(null_values.shape)\n",
    "print(null_values.index)"
   ]
  },
  {
   "cell_type": "code",
   "execution_count": 99,
   "metadata": {},
   "outputs": [
    {
     "data": {
      "text/plain": [
       "Int64Index([136, 139, 141, 152, 153, 156, 158, 160, 167, 169, 176, 178, 181], dtype='int64')"
      ]
     },
     "execution_count": 99,
     "metadata": {},
     "output_type": "execute_result"
    }
   ],
   "source": [
    "duplicates = df[df['8'].duplicated()]\n",
    "duplicates.index"
   ]
  }
 ],
 "metadata": {
  "interpreter": {
   "hash": "3d8d249037c454a3c5c4d5ca5bd7d691a5e26e3b374c1cc9a047e4dcb697a865"
  },
  "kernelspec": {
   "display_name": "Python 3.9.7 ('base')",
   "language": "python",
   "name": "python3"
  },
  "language_info": {
   "codemirror_mode": {
    "name": "ipython",
    "version": 3
   },
   "file_extension": ".py",
   "mimetype": "text/x-python",
   "name": "python",
   "nbconvert_exporter": "python",
   "pygments_lexer": "ipython3",
   "version": "3.9.7"
  },
  "orig_nbformat": 4
 },
 "nbformat": 4,
 "nbformat_minor": 2
}
