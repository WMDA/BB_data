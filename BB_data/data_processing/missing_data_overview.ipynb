{
 "cells": [
  {
   "cell_type": "code",
   "execution_count": 6,
   "metadata": {},
   "outputs": [],
   "source": [
    "from functions import data_functions as data\n",
    "import pandas as pd"
   ]
  },
  {
   "cell_type": "code",
   "execution_count": 2,
   "metadata": {},
   "outputs": [],
   "source": [
    "df = data.data('questionnaire_data.csv','t2')"
   ]
  },
  {
   "cell_type": "code",
   "execution_count": 32,
   "metadata": {},
   "outputs": [],
   "source": [
    "edeq_df = df[['7.', '25.', '26.', '27.', '28.', '29.', '30.', '31.', '33.', '34.', '35.', '36.',\n",
    "                  '37.', '38.', '39.', '47.', '48.', '49.', '50.', '51.', '52.', '53.', '54.']]\n",
    "hads_df = df.loc[:, '73.':'86.']\n",
    "oci_df = df.loc[:, '55.':'72.']\n",
    "wsas_df = df.loc[:, '97.':'101.']\n",
    "aq_df = df.loc[:, '87.':'96.']"
   ]
  },
  {
   "cell_type": "code",
   "execution_count": 33,
   "metadata": {},
   "outputs": [],
   "source": [
    "null_check = pd.concat([edeq_df, hads_df, oci_df, aq_df, wsas_df ], axis=1)"
   ]
  },
  {
   "cell_type": "code",
   "execution_count": null,
   "metadata": {},
   "outputs": [],
   "source": [
    "print('number of ede-q missing values', edeq_df.isnull().sum())\n",
    "print('number of hads missing values', hads_df.isnull().sum())\n",
    "print('number of wsas missing values', wsas_df.isnull().sum())\n",
    "print('number of aq missing values', aq_df.isnull().sum())\n",
    "print('number of oci missing values', oci_df.isnull().sum())"
   ]
  },
  {
   "cell_type": "code",
   "execution_count": 36,
   "metadata": {},
   "outputs": [
    {
     "name": "stdout",
     "output_type": "stream",
     "text": [
      "2      B1003\n",
      "9      B2006\n",
      "10     B2002\n",
      "29     B1023\n",
      "31     B1015\n",
      "34     B1021\n",
      "39     B2032\n",
      "49     B2039\n",
      "52     B2026\n",
      "63     B1025\n",
      "64     B2051\n",
      "67     B2052\n",
      "84     B1031\n",
      "123    B2053\n",
      "132    B1045\n",
      "Name: 7., dtype: object\n"
     ]
    }
   ],
   "source": [
    "null_values = null_check[null_check.isna().any(axis=1)]\n",
    "print(null_values['7.']) "
   ]
  },
  {
   "cell_type": "code",
   "execution_count": 4,
   "metadata": {},
   "outputs": [
    {
     "name": "stdout",
     "output_type": "stream",
     "text": [
      "Int64Index([], dtype='int64')\n",
      "Series([], Name: 7., dtype: object)\n"
     ]
    }
   ],
   "source": [
    "duplicates = df[df['7.'].duplicated()]\n",
    "print(duplicates.index)\n",
    "print(duplicates['7.'])"
   ]
  },
  {
   "cell_type": "markdown",
   "metadata": {},
   "source": [
    "B2025 - two B2025 values\n",
    "B1040 - not a repeat someone else has same DoB\n",
    "B2090 - two B2090 (138, 131 )\n",
    "B2999 - drop as b2091 is first round\n",
    "B2076 - two (111, 141)\n",
    "B2018 two (86, 143 )\n",
    "1009 - drop as orginal is B1009\n",
    "B1031 - duplicate. Orginal one has a space after B1031.\n",
    "B2033 - two B2033\n",
    "B2043 - two B2043\n",
    "B2039 - two B2039\n",
    "2030 -  B2030 original\n",
    "B2083 - two B2083\n",
    "B2088 - two B2088\n",
    "B2047 - two B2047\n",
    "2065 - drop as B2065 is original"
   ]
  },
  {
   "cell_type": "code",
   "execution_count": 20,
   "metadata": {},
   "outputs": [
    {
     "name": "stdout",
     "output_type": "stream",
     "text": [
      "Int64Index([72, 136, 139, 141, 143, 144, 152, 156, 158, 159, 160, 167, 178,\n",
      "            181, 182],\n",
      "           dtype='int64')\n",
      "72     B2025\n",
      "136    B2090\n",
      "139    B2076\n",
      "141    B2018\n",
      "143    B1009\n",
      "144    B1031\n",
      "152    B2033\n",
      "156    B2043\n",
      "158    B2039\n",
      "159    B2030\n",
      "160    B2083\n",
      "167    B2088\n",
      "178    B2047\n",
      "181      NaN\n",
      "182    B2065\n",
      "Name: 7., dtype: object\n"
     ]
    }
   ],
   "source": [
    "duplicates_b = df[df['7.'].duplicated()]\n",
    "print(duplicates_b.index)\n",
    "print(duplicates_b['7.'])"
   ]
  },
  {
   "cell_type": "code",
   "execution_count": 21,
   "metadata": {},
   "outputs": [],
   "source": [
    "dropindex = [72, 136, 138, 139, 141, 143, 144, 152, 156, 158, 159, 160, 167, 176, 178, 181, 182]"
   ]
  },
  {
   "cell_type": "code",
   "execution_count": 22,
   "metadata": {},
   "outputs": [],
   "source": [
    "cleaned_df = data.data('questionnaire_data.csv','t2', clean=True, drop_index=dropindex)"
   ]
  },
  {
   "cell_type": "code",
   "execution_count": 23,
   "metadata": {},
   "outputs": [
    {
     "data": {
      "text/plain": [
       "(134, 179)"
      ]
     },
     "execution_count": 23,
     "metadata": {},
     "output_type": "execute_result"
    }
   ],
   "source": [
    "cleaned_df.shape"
   ]
  },
  {
   "cell_type": "code",
   "execution_count": 24,
   "metadata": {},
   "outputs": [],
   "source": [
    "hc = cleaned_df[cleaned_df['7.'].str.contains('B1')]\n",
    "aan = cleaned_df[cleaned_df['7.'].str.contains('B2')]"
   ]
  },
  {
   "cell_type": "code",
   "execution_count": 25,
   "metadata": {},
   "outputs": [
    {
     "name": "stdout",
     "output_type": "stream",
     "text": [
      "Number of AAN participants is 95\n",
      "Number of HC participants is 39\n"
     ]
    }
   ],
   "source": [
    "print('Number of AAN participants is', aan.shape[0])\n",
    "print('Number of HC participants is', hc.shape[0])"
   ]
  }
 ],
 "metadata": {
  "kernelspec": {
   "display_name": "Python 3.9.5 ('venv': venv)",
   "language": "python",
   "name": "python3"
  },
  "language_info": {
   "codemirror_mode": {
    "name": "ipython",
    "version": 3
   },
   "file_extension": ".py",
   "mimetype": "text/x-python",
   "name": "python",
   "nbconvert_exporter": "python",
   "pygments_lexer": "ipython3",
   "version": "3.9.5"
  },
  "orig_nbformat": 4,
  "vscode": {
   "interpreter": {
    "hash": "8a06586765024df0bc086458479a591587d2bd5ad846f30e1f0ea886304492ea"
   }
  }
 },
 "nbformat": 4,
 "nbformat_minor": 2
}
