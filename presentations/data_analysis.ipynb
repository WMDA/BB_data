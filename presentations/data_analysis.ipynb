{
 "cells": [
  {
   "cell_type": "markdown",
   "id": "457ea047",
   "metadata": {
    "slideshow": {
     "slide_type": "skip"
    }
   },
   "source": [
    "Intially left blank. Start presentation from this slide."
   ]
  },
  {
   "cell_type": "markdown",
   "id": "60ee4eaa",
   "metadata": {
    "slideshow": {
     "slide_type": "slide"
    }
   },
   "source": [
    "# Data Analysis in Python\n",
    "\n",
    "This presentation will go over basic data analysis in python. We will cover:\n",
    "\n",
    "1) Reading in and manipulating data with pandas. \n",
    "\n",
    "2) Plotting data.\n",
    "\n",
    "3) Running statistical tests. \n",
    "\n"
   ]
  },
  {
   "cell_type": "markdown",
   "id": "2dd3a211",
   "metadata": {
    "slideshow": {
     "slide_type": "slide"
    }
   },
   "source": [
    "## But first what are all these weirdly named stuff???\n",
    "\n",
    "<img src=\"https://pic1.zhimg.com/v2-297731bd359ebc14978967a92f1716cb_r.jpg?source=1940ef5c\" width=\"1000\" align=\"left\"/>\n"
   ]
  },
  {
   "cell_type": "markdown",
   "id": "836f5f71",
   "metadata": {
    "slideshow": {
     "slide_type": "subslide"
    }
   },
   "source": [
    "## Python modules\n",
    "\n",
    "Python has **loads** of module avaiable. There are modules for data analysis, plotting, reading in files, machine learning, neuroimaging... \n",
    "\n",
    "BUt what is a module? A module contain pre-written code, functions, classes etc that we can use in our code. \n",
    "\n",
    "Some come with vanilla python while others have to be installed either from github or via the pip system (this is beyond this talk)"
   ]
  },
  {
   "cell_type": "markdown",
   "id": "d4227e68",
   "metadata": {
    "slideshow": {
     "slide_type": "subslide"
    }
   },
   "source": [
    "## How to import Modules and Access Functions\n",
    "\n",
    "Modules are imported (usually at the top of the script) as\n",
    "\n",
    "```import module ```\n",
    "\n",
    "Modules can also be renamed when imported (useful to abbreviate long module names).\n",
    "\n",
    "```import module as mod```\n",
    "\n",
    "Code from the module is accessed using the name of modules followed by a ```.``` then the function's name.\n",
    "\n",
    "```mod.examplefunction()```"
   ]
  },
  {
   "cell_type": "code",
   "execution_count": 2,
   "id": "00af943c",
   "metadata": {
    "slideshow": {
     "slide_type": "subslide"
    }
   },
   "outputs": [
    {
     "name": "stdout",
     "output_type": "stream",
     "text": [
      "           0         1\n",
      "0  -0.914855 -0.754805\n",
      "1   1.674765  0.048252\n",
      "2  -1.491083  0.479256\n",
      "3  -0.426229  1.746128\n",
      "4  -0.061185 -0.168811\n",
      "..       ...       ...\n",
      "95 -1.198765  0.950563\n",
      "96 -1.686933 -1.356574\n",
      "97  0.412278  0.461957\n",
      "98 -0.537801 -0.330817\n",
      "99 -0.407980 -0.611128\n",
      "\n",
      "[100 rows x 2 columns]\n"
     ]
    }
   ],
   "source": [
    "import pandas as pd\n",
    "\n",
    "#This is another way to import functions/classes. It imports what you asked and not the whole module. Saves resources etc \n",
    "from numpy.random import default_rng \n",
    "\n",
    "#Random number generator\n",
    "rng = default_rng() #This is a bit complicated so ignore it for the mean time\n",
    "vals = rng.standard_normal(100)\n",
    "more_vals = rng.standard_normal(100)\n",
    "\n",
    "#Makes a dataframe (more on this later)\n",
    "df = pd.DataFrame([vals, more_vals]).T\n",
    "print(df)"
   ]
  },
  {
   "cell_type": "markdown",
   "id": "a6321679",
   "metadata": {
    "slideshow": {
     "slide_type": "slide"
    }
   },
   "source": [
    "<img src=\"https://1.bp.blogspot.com/-BeblIiYBjCM/XvmWKq2vU7I/AAAAAAAAEJI/lqoNiLwjxMUxoBpMIPCONKUkAAiuOrs2QCK4BGAsYHg/w1200-h630-p-k-no-nu/pandas.png\" alt=\"drawing\" width=\"1000\" align=\"right\"/>\n"
   ]
  },
  {
   "cell_type": "markdown",
   "id": "1efde62b",
   "metadata": {
    "slideshow": {
     "slide_type": "subslide"
    }
   },
   "source": [
    "## Pandas\n",
    "\n",
    "Pandas is a popular module used to read and manipulate data in a python. It is important to figure out pandas as once the data is in the correct format everything else is loads easier!\n",
    "\n",
    "The basis of pandas is the dataframe (basically a complicated dictionary made simple) made of rows and columns. \n",
    "\n",
    "A dataframe can consist of multiple data types though pandas (confusingly) calls them differently."
   ]
  },
  {
   "cell_type": "markdown",
   "id": "aeef5840",
   "metadata": {
    "slideshow": {
     "slide_type": "subslide"
    }
   },
   "source": [
    "## Reading in Data\n",
    "\n",
    "Pandas can handle multiple types of file intputs from excel spreadsheets to csvs and sql databases. \n",
    "\n",
    "The most common way is to read in a file such as csv using the ```pd.read_csv()```. This reads in a csv file and makes it into a pandas dataframe."
   ]
  },
  {
   "cell_type": "code",
   "execution_count": 3,
   "id": "c11181b4",
   "metadata": {},
   "outputs": [],
   "source": [
    "df = pd.read_csv('my_csv.csv', index_col='Unnamed: 0')# ignore the index_col bit just a mistake in the csv file "
   ]
  },
  {
   "cell_type": "markdown",
   "id": "14e7846d",
   "metadata": {
    "slideshow": {
     "slide_type": "subslide"
    }
   },
   "source": [
    "## Manipulating data\n",
    "\n",
    "Once the data is read in and assinged to a variable pandas has many inbuilt functions to manipulate and view data. \n",
    "\n",
    "We can rename columns/rows using ```df.rename()```\n",
    "\n",
    "We can make new columns using ```df['new_column_name'] = 100```\n",
    "\n",
    "We can get values of certain rows, columns or individual cells and assign them to a new variable using ```df.loc``` or ```df.iloc``` \n",
    "\n",
    "This new manuplated data can be made into a new dataframe and then written out to as an excel/csv document or sql database!!"
   ]
  },
  {
   "cell_type": "code",
   "execution_count": 31,
   "id": "4f6314f5",
   "metadata": {
    "slideshow": {
     "slide_type": "subslide"
    }
   },
   "outputs": [],
   "source": [
    "import numpy as np\n",
    "\n",
    "# rename columns\n",
    "df = df.rename(columns={'0':'value_1' , '1': 'value_2'})\n",
    "\n",
    "# make new columns\n",
    "df['new_columns'] = 'Some_string'\n",
    "df['Boolean'] = True\n",
    "\n",
    "# Selecting the first two coulmns using df.iloc. First index is rows. Second is columns  \n",
    "first_two_columns = df.iloc[0:, 0:2]\n",
    "\n",
    "# Selecting the first two rows.\n",
    "first_two_rows = df.iloc[0:2, 0:]\n",
    "\n",
    "# Columns/rows can also be mathematically providing they are of compatable data types.\n",
    "\n",
    "df['sum_of_columns'] = df['value_1'] + df['value_2']"
   ]
  },
  {
   "cell_type": "markdown",
   "id": "eb98d5ce",
   "metadata": {
    "slideshow": {
     "slide_type": "subslide"
    }
   },
   "source": [
    "## Viewing and exploring data\n",
    "\n",
    "There are a variety of ways to view and explore data. \n",
    "\n",
    "Like with any variable we could just print it using the ```print()``` function, however depending on the settings of your ide the whole dataframe won't be printed (and with huge dataframes this will quickly be overwhelming!!)"
   ]
  },
  {
   "cell_type": "code",
   "execution_count": 21,
   "id": "7198a735",
   "metadata": {
    "slideshow": {
     "slide_type": "subslide"
    }
   },
   "outputs": [
    {
     "name": "stdout",
     "output_type": "stream",
     "text": [
      "     value_1   value_2  new_columns  Boolean  sum_of_columns\n",
      "0  -0.119643 -0.563245  Some_string     True       -0.682888\n",
      "1   1.569207 -0.277535  Some_string     True        1.291672\n",
      "2  -0.077805 -1.395134  Some_string     True       -1.472939\n",
      "3  -0.920221 -0.711695  Some_string     True       -1.631916\n",
      "4   0.406154 -0.294094  Some_string     True        0.112060\n",
      "..       ...       ...          ...      ...             ...\n",
      "95 -0.867429 -0.769710  Some_string     True       -1.637139\n",
      "96 -0.372398 -0.832484  Some_string     True       -1.204881\n",
      "97  1.565516  1.355683  Some_string     True        2.921200\n",
      "98 -0.718181 -0.483387  Some_string     True       -1.201569\n",
      "99  0.903636  0.276086  Some_string     True        1.179722\n",
      "\n",
      "[100 rows x 5 columns]\n"
     ]
    }
   ],
   "source": [
    "print(df)"
   ]
  },
  {
   "cell_type": "markdown",
   "id": "39efee46",
   "metadata": {
    "slideshow": {
     "slide_type": "subslide"
    }
   },
   "source": [
    "A more clearier way is to print out only the top five rows or bottom five rows."
   ]
  },
  {
   "cell_type": "code",
   "execution_count": 22,
   "id": "dacc7c64",
   "metadata": {},
   "outputs": [
    {
     "name": "stdout",
     "output_type": "stream",
     "text": [
      "    value_1   value_2  new_columns  Boolean  sum_of_columns\n",
      "0 -0.119643 -0.563245  Some_string     True       -0.682888\n",
      "1  1.569207 -0.277535  Some_string     True        1.291672\n",
      "2 -0.077805 -1.395134  Some_string     True       -1.472939\n",
      "3 -0.920221 -0.711695  Some_string     True       -1.631916\n",
      "4  0.406154 -0.294094  Some_string     True        0.112060 \n",
      "\n",
      "     value_1   value_2  new_columns  Boolean  sum_of_columns\n",
      "95 -0.867429 -0.769710  Some_string     True       -1.637139\n",
      "96 -0.372398 -0.832484  Some_string     True       -1.204881\n",
      "97  1.565516  1.355683  Some_string     True        2.921200\n",
      "98 -0.718181 -0.483387  Some_string     True       -1.201569\n",
      "99  0.903636  0.276086  Some_string     True        1.179722\n"
     ]
    }
   ],
   "source": [
    "print(df.head(), '\\n')\n",
    "print(df.tail())"
   ]
  },
  {
   "cell_type": "markdown",
   "id": "bea80e9b",
   "metadata": {
    "slideshow": {
     "slide_type": "slide"
    }
   },
   "source": [
    "We can also explore the datatypes of each column, the summary statistics of the dataframe and the column names."
   ]
  },
  {
   "cell_type": "code",
   "execution_count": 23,
   "id": "41694b00",
   "metadata": {
    "scrolled": true
   },
   "outputs": [
    {
     "name": "stdout",
     "output_type": "stream",
     "text": [
      "          value_1     value_2  sum_of_columns\n",
      "count  100.000000  100.000000      100.000000\n",
      "mean     0.050833    0.078548        0.129381\n",
      "std      0.960960    1.016081        1.335781\n",
      "min     -2.300920   -1.812766       -3.150778\n",
      "25%     -0.535519   -0.586774       -0.686167\n",
      "50%      0.100536    0.033909        0.160384\n",
      "75%      0.662442    0.803016        1.087914\n",
      "max      2.205904    2.955150        4.458147 \n",
      "\n",
      "Index(['value_1', 'value_2', 'new_columns', 'Boolean', 'sum_of_columns'], dtype='object') \n",
      "\n",
      "value_1           float64\n",
      "value_2           float64\n",
      "new_columns        object\n",
      "Boolean              bool\n",
      "sum_of_columns    float64\n",
      "dtype: object \n",
      "\n"
     ]
    }
   ],
   "source": [
    "print(df.describe(), '\\n')\n",
    "print(df.columns, '\\n')\n",
    "print(df.dtypes, '\\n')"
   ]
  },
  {
   "cell_type": "markdown",
   "id": "ea8b1dfb",
   "metadata": {
    "slideshow": {
     "slide_type": "subslide"
    }
   },
   "source": [
    "Finally (through a process called masking) we can select values based on condition(s). We can then see how many values are in our data that meet that condition. \n",
    "\n",
    "Don't worry if this looks complicated (it can be) it is more to show how powerful pandas can be!"
   ]
  },
  {
   "cell_type": "code",
   "execution_count": 24,
   "id": "2f8039a3",
   "metadata": {
    "slideshow": {
     "slide_type": "-"
    }
   },
   "outputs": [
    {
     "name": "stdout",
     "output_type": "stream",
     "text": [
      "Number of values over 1 in our data: 16\n"
     ]
    }
   ],
   "source": [
    "print('Number of values over 1 in our data:', len(df['value_1'].loc[df['value_1'] > 1]))"
   ]
  },
  {
   "cell_type": "markdown",
   "id": "7cc5e9bc",
   "metadata": {
    "slideshow": {
     "slide_type": "subslide"
    }
   },
   "source": [
    "<img src=\"https://cdn.thinglink.me/api/image/465563090277105665/1024/10/scaletowidth/0/0/1/1/false/true?wait=true\" alt=\"\" width=\"500\" align=\"top\"/>\n",
    "\n",
    "\n",
    "Pandas is a big library with lots of powerful features, classes and functions in it. \n",
    "\n",
    "Don't worry if it all seems like a lot because it is! \n",
    "\n",
    "But Pandas is initutive once you get the hang of it and has great documentation to help (https://pandas.pydata.org/docs/index.html)"
   ]
  },
  {
   "cell_type": "markdown",
   "id": "1a93722e",
   "metadata": {
    "slideshow": {
     "slide_type": "slide"
    }
   },
   "source": [
    "## Plotting\n",
    "\n",
    "<img src=\"https://external-content.duckduckgo.com/iu/?u=http%3A%2F%2Fclipground.com%2Fimages%2Fgraphing-clipart-17.jpg&f=1&nofb=1\" alt=\"\" width=\"500\" align=\"top\"/>\n"
   ]
  },
  {
   "cell_type": "markdown",
   "id": "f1de820e",
   "metadata": {
    "slideshow": {
     "slide_type": "subslide"
    }
   },
   "source": [
    "Python has a few different options for plotting depending on what kind of plots we want.\n",
    "\n",
    "The grandparent of all the plotting libraries is matplotlib as most of the plotting libraries are built on top of matplotlib. However for this presentation we are going to focus on one of matplotlib's offspring **seaborn**"
   ]
  },
  {
   "cell_type": "markdown",
   "id": "ac5ec2c8",
   "metadata": {
    "slideshow": {
     "slide_type": "subslide"
    }
   },
   "source": [
    "## But first Pandas again!!\n",
    "\n",
    "Pandas does have basic plotting function. Plotting with pandas is extremely easy but not very customisable. Great for initially exploring data"
   ]
  },
  {
   "cell_type": "code",
   "execution_count": 25,
   "id": "22f9aff7",
   "metadata": {
    "scrolled": true,
    "slideshow": {
     "slide_type": "-"
    }
   },
   "outputs": [
    {
     "data": {
      "text/plain": [
       "array([[<AxesSubplot:xlabel='value_1', ylabel='value_1'>,\n",
       "        <AxesSubplot:xlabel='value_2', ylabel='value_1'>],\n",
       "       [<AxesSubplot:xlabel='value_1', ylabel='value_2'>,\n",
       "        <AxesSubplot:xlabel='value_2', ylabel='value_2'>]], dtype=object)"
      ]
     },
     "execution_count": 25,
     "metadata": {},
     "output_type": "execute_result"
    },
    {
     "data": {
      "image/png": "[encoded data removed]",
      "text/plain": [
       "<Figure size 432x288 with 4 Axes>"
      ]
     },
     "metadata": {},
     "output_type": "display_data"
    }
   ],
   "source": [
    "pd.plotting.scatter_matrix(df[['value_1', 'value_2']])"
   ]
  },
  {
   "cell_type": "code",
   "execution_count": 6,
   "id": "af1578f9",
   "metadata": {
    "slideshow": {
     "slide_type": "skip"
    }
   },
   "outputs": [],
   "source": [
    "# Ignore this cell, it loads the data \n",
    "from BB_data.data_processing.height_weight import main as bmi\n",
    "from BB_data.data_processing.t1_data import main as t1\n",
    "\n",
    "bmi_df = bmi()\n",
    "bmi_t1 = t1('bmi')"
   ]
  },
  {
   "cell_type": "markdown",
   "id": "9158837e",
   "metadata": {
    "slideshow": {
     "slide_type": "subslide"
    }
   },
   "source": [
    "<img src=\"https://external-content.duckduckgo.com/iu/?u=https%3A%2F%2Fmiro.medium.com%2Fmax%2F3840%2F1*ZouWFNqyuFP5dBtqKdiNfA.jpeg&f=1&nofb=1\" alt=\"\" width=\"1000\" align=\"top\"/>\n",
    "\n"
   ]
  },
  {
   "cell_type": "markdown",
   "id": "99fa5642",
   "metadata": {
    "slideshow": {
     "slide_type": "subslide"
    }
   },
   "source": [
    "<img src=\"https://onlinelibrary.wiley.com/cms/asset/29893e77-acd0-48c9-93cc-bccb9d582705/hbm25417-fig-0001-m.jpg\" alt=\"\" width=\"500\" align=\"top\"/>\n",
    "\n",
    "Seaborn is a high level plotting library that allows for sophisticated plotting with more customization. \n",
    "\n",
    "Over the next few slides we can see some of the plotting functions offered in seaborn from very simple to the more complex.  "
   ]
  },
  {
   "cell_type": "code",
   "execution_count": 27,
   "id": "16d54a0c",
   "metadata": {
    "slideshow": {
     "slide_type": "subslide"
    }
   },
   "outputs": [],
   "source": [
    "import seaborn as sns\n",
    "import matplotlib.pyplot as plt\n",
    "sns.set_style('dark')"
   ]
  },
  {
   "cell_type": "code",
   "execution_count": 28,
   "id": "c0c7b797",
   "metadata": {
    "slideshow": {
     "slide_type": "-"
    }
   },
   "outputs": [
    {
     "data": {
      "text/plain": [
       "<seaborn.axisgrid.PairGrid at 0x7fb7db85c8b0>"
      ]
     },
     "execution_count": 28,
     "metadata": {},
     "output_type": "execute_result"
    },
    {
     "data": {
      "image/png": "[encoded data removed]",
      "text/plain": [
       "<Figure size 540x540 with 12 Axes>"
      ]
     },
     "metadata": {},
     "output_type": "display_data"
    }
   ],
   "source": [
    "sns.pairplot(df[['value_1', 'value_2', 'sum_of_columns']], diag_kind='kde')"
   ]
  },
  {
   "cell_type": "code",
   "execution_count": 47,
   "id": "9065b38d",
   "metadata": {
    "scrolled": true,
    "slideshow": {
     "slide_type": "subslide"
    }
   },
   "outputs": [
    {
     "data": {
      "text/plain": [
       "<AxesSubplot:xlabel='value_1', ylabel='sum_of_columns'>"
      ]
     },
     "execution_count": 47,
     "metadata": {},
     "output_type": "execute_result"
    },
    {
     "data": {
      "image/png": "[encoded data removed]",
      "text/plain": [
       "<Figure size 432x288 with 1 Axes>"
      ]
     },
     "metadata": {},
     "output_type": "display_data"
    }
   ],
   "source": [
    "sns.regplot(x='value_1', y='sum_of_columns', data=df, ci=False, \n",
    "            line_kws= {\"color\":\"purple\"}, scatter_kws={\"color\":\"orange\"})"
   ]
  },
  {
   "cell_type": "code",
   "execution_count": 29,
   "id": "9fcf6605",
   "metadata": {
    "slideshow": {
     "slide_type": "subslide"
    }
   },
   "outputs": [
    {
     "data": {
      "text/plain": [
       "Text(0.5, 1.0, 'BMI at time point 1')"
      ]
     },
     "execution_count": 29,
     "metadata": {},
     "output_type": "execute_result"
    },
    {
     "data": {
      "image/png": "[encoded data removed]",
      "text/plain": [
       "<Figure size 1080x504 with 2 Axes>"
      ]
     },
     "metadata": {},
     "output_type": "display_data"
    }
   ],
   "source": [
    "fig,ax = plt.subplots(1,2, figsize=(15,7))\n",
    "sns.boxplot(x='group', y='bmi', data=bmi_df, ax=ax[0], linewidth=1, palette='Accent_r')\n",
    "sns.stripplot(x=\"group\", y=\"bmi\", data=bmi_df, ax=ax[0], color=\".15\")\n",
    "ax[0].set(xlabel='Groups (t2)', ylabel='BMI (t2)')\n",
    "ax[0].set_title('BMI at time point 2')\n",
    "\n",
    "sns.boxplot(x='group', y='BMI_baseline', data=bmi_t1, ax=ax[1], linewidth=1, palette='Accent_r')\n",
    "sns.stripplot(x=\"group\", y=\"BMI_baseline\", data=bmi_t1, ax=ax[1], color=\".15\")\n",
    "ax[1].set(xlabel='Groups (t1)', ylabel='BMI (t1)')\n",
    "ax[1].set_title('BMI at time point 1')"
   ]
  },
  {
   "cell_type": "markdown",
   "id": "11353d4b",
   "metadata": {
    "slideshow": {
     "slide_type": "slide"
    }
   },
   "source": [
    "## Maths and Stuff\n",
    "\n",
    "<img src=\"https://external-content.duckduckgo.com/iu/?u=https%3A%2F%2Fcdn.guff.com%2Fsite_2%2Fmedia%2F33000%2F32270%2Fthumbnails%2Fthumbnail_44d5a4f327fba7fbe98b570f.jpg&f=1&nofb=1\" alt=\"\" width=\"500\" align=\"top\"/>\n"
   ]
  },
  {
   "cell_type": "markdown",
   "id": "0a7c1290",
   "metadata": {
    "slideshow": {
     "slide_type": "subslide"
    }
   },
   "source": [
    "Python has a number of packages for statistical analysis. The most common are scipy and statsmodels, though others exist such as pingouin (a wrapper over scipy), scikit learn and tensorflow (more for machine learning/AI)\n",
    "\n",
    "Scipy is a package that contains mathematical functions for data analysis. It is fast and there is a lot of functions avaiable (particularly for advance maths stuff). More used for when building own functions/models. \n",
    "\n",
    "Statsmodels provides a high level api that comes ready to use out of the box. "
   ]
  },
  {
   "cell_type": "code",
   "execution_count": 28,
   "id": "0b895e39",
   "metadata": {
    "slideshow": {
     "slide_type": "subslide"
    }
   },
   "outputs": [],
   "source": [
    "import statsmodels.api as sm\n",
    "import scipy"
   ]
  },
  {
   "cell_type": "code",
   "execution_count": 29,
   "id": "6a89a0c7",
   "metadata": {
    "slideshow": {
     "slide_type": "subslide"
    }
   },
   "outputs": [
    {
     "name": "stdout",
     "output_type": "stream",
     "text": [
      "Pval is 0.010100282721064818 and the t score is -2.5940318047788606\n",
      "\n"
     ]
    },
    {
     "data": {
      "text/html": [
       "<table class=\"simpletable\">\n",
       "<caption>OLS Regression Results</caption>\n",
       "<tr>\n",
       "  <th>Dep. Variable:</th>     <td>sum_of_columns</td>  <th>  R-squared (uncentered):</th>      <td>   1.000</td> \n",
       "</tr>\n",
       "<tr>\n",
       "  <th>Model:</th>                   <td>OLS</td>       <th>  Adj. R-squared (uncentered):</th> <td>   1.000</td> \n",
       "</tr>\n",
       "<tr>\n",
       "  <th>Method:</th>             <td>Least Squares</td>  <th>  F-statistic:       </th>          <td>2.089e+32</td>\n",
       "</tr>\n",
       "<tr>\n",
       "  <th>Date:</th>             <td>Fri, 01 Apr 2022</td> <th>  Prob (F-statistic):</th>           <td>  0.00</td>  \n",
       "</tr>\n",
       "<tr>\n",
       "  <th>Time:</th>                 <td>10:00:44</td>     <th>  Log-Likelihood:    </th>          <td>  3355.6</td> \n",
       "</tr>\n",
       "<tr>\n",
       "  <th>No. Observations:</th>      <td>   100</td>      <th>  AIC:               </th>          <td>  -6707.</td> \n",
       "</tr>\n",
       "<tr>\n",
       "  <th>Df Residuals:</th>          <td>    98</td>      <th>  BIC:               </th>          <td>  -6702.</td> \n",
       "</tr>\n",
       "<tr>\n",
       "  <th>Df Model:</th>              <td>     2</td>      <th>                     </th>              <td> </td>    \n",
       "</tr>\n",
       "<tr>\n",
       "  <th>Covariance Type:</th>      <td>nonrobust</td>    <th>                     </th>              <td> </td>    \n",
       "</tr>\n",
       "</table>\n",
       "<table class=\"simpletable\">\n",
       "<tr>\n",
       "     <td></td>        <th>coef</th>     <th>std err</th>      <th>t</th>      <th>P>|t|</th>  <th>[0.025</th>    <th>0.975]</th>  \n",
       "</tr>\n",
       "<tr>\n",
       "  <th>value_1</th> <td>    1.0000</td> <td> 6.85e-17</td> <td> 1.46e+16</td> <td> 0.000</td> <td>    1.000</td> <td>    1.000</td>\n",
       "</tr>\n",
       "<tr>\n",
       "  <th>value_2</th> <td>    1.0000</td> <td> 6.47e-17</td> <td> 1.55e+16</td> <td> 0.000</td> <td>    1.000</td> <td>    1.000</td>\n",
       "</tr>\n",
       "</table>\n",
       "<table class=\"simpletable\">\n",
       "<tr>\n",
       "  <th>Omnibus:</th>       <td> 0.040</td> <th>  Durbin-Watson:     </th> <td>   2.238</td>\n",
       "</tr>\n",
       "<tr>\n",
       "  <th>Prob(Omnibus):</th> <td> 0.980</td> <th>  Jarque-Bera (JB):  </th> <td>   0.070</td>\n",
       "</tr>\n",
       "<tr>\n",
       "  <th>Skew:</th>          <td> 0.041</td> <th>  Prob(JB):          </th> <td>   0.965</td>\n",
       "</tr>\n",
       "<tr>\n",
       "  <th>Kurtosis:</th>      <td> 2.899</td> <th>  Cond. No.          </th> <td>    1.11</td>\n",
       "</tr>\n",
       "</table><br/><br/>Notes:<br/>[1] R² is computed without centering (uncentered) since the model does not contain a constant.<br/>[2] Standard Errors assume that the covariance matrix of the errors is correctly specified."
      ],
      "text/plain": [
       "<class 'statsmodels.iolib.summary.Summary'>\n",
       "\"\"\"\n",
       "                                 OLS Regression Results                                \n",
       "=======================================================================================\n",
       "Dep. Variable:         sum_of_columns   R-squared (uncentered):                   1.000\n",
       "Model:                            OLS   Adj. R-squared (uncentered):              1.000\n",
       "Method:                 Least Squares   F-statistic:                          2.089e+32\n",
       "Date:                Fri, 01 Apr 2022   Prob (F-statistic):                        0.00\n",
       "Time:                        10:00:44   Log-Likelihood:                          3355.6\n",
       "No. Observations:                 100   AIC:                                     -6707.\n",
       "Df Residuals:                      98   BIC:                                     -6702.\n",
       "Df Model:                           2                                                  \n",
       "Covariance Type:            nonrobust                                                  \n",
       "==============================================================================\n",
       "                 coef    std err          t      P>|t|      [0.025      0.975]\n",
       "------------------------------------------------------------------------------\n",
       "value_1        1.0000   6.85e-17   1.46e+16      0.000       1.000       1.000\n",
       "value_2        1.0000   6.47e-17   1.55e+16      0.000       1.000       1.000\n",
       "==============================================================================\n",
       "Omnibus:                        0.040   Durbin-Watson:                   2.238\n",
       "Prob(Omnibus):                  0.980   Jarque-Bera (JB):                0.070\n",
       "Skew:                           0.041   Prob(JB):                        0.965\n",
       "Kurtosis:                       2.899   Cond. No.                         1.11\n",
       "==============================================================================\n",
       "\n",
       "Notes:\n",
       "[1] R² is computed without centering (uncentered) since the model does not contain a constant.\n",
       "[2] Standard Errors assume that the covariance matrix of the errors is correctly specified.\n",
       "\"\"\""
      ]
     },
     "execution_count": 29,
     "metadata": {},
     "output_type": "execute_result"
    }
   ],
   "source": [
    "tscore, pval = scipy.stats.ttest_ind(bmi_t1['BMI_baseline'].dropna(), bmi_df['bmi'].dropna())\n",
    "print(f'Pval is {pval} and the t score is {tscore}\\n')\n",
    "\n",
    "sm.OLS(df['sum_of_columns'], df[['value_1', 'value_2']] ).fit().summary()"
   ]
  },
  {
   "cell_type": "markdown",
   "id": "bff44bb7",
   "metadata": {
    "slideshow": {
     "slide_type": "subslide"
    }
   },
   "source": [
    "## And Finally R in Python?\n",
    "\n",
    "<img src=\"https://external-content.duckduckgo.com/iu/?u=https%3A%2F%2Fcodersera.com%2Fblog%2Fwp-content%2Fuploads%2F2019%2F06%2FFast-Track-Your-R-Programming-LanguageFlipDiary-Blog-990x556-1.jpg&f=1&nofb=1\" alt=\"\" width=\"500\" align=\"top\"/>\n"
   ]
  },
  {
   "cell_type": "code",
   "execution_count": 30,
   "id": "72a60651",
   "metadata": {
    "slideshow": {
     "slide_type": "subslide"
    }
   },
   "outputs": [
    {
     "name": "stdout",
     "output_type": "stream",
     "text": [
      "       Estimate   Std. Error  t value     Pr(>|t|)\n",
      "cyl 0.003676666 0.0009649056 3.810389 6.412005e-04\n",
      "wt  0.009645158 0.0018712640 5.154354 1.506505e-05\n",
      "\n"
     ]
    }
   ],
   "source": [
    "import rpy2.situation\n",
    "import rpy2.robjects as robjects\n",
    "import rpy2.robjects.packages as rpackages\n",
    "\n",
    "base = rpackages.importr('base')\n",
    "datasets = rpackages.importr('datasets')\n",
    "stats = rpackages.importr('stats')\n",
    "\n",
    "r = robjects.r\n",
    "mtcars = robjects.packages.data(datasets).fetch('mtcars')['mtcars']\n",
    "fit = stats.glm('mpg ~ cyl + wt -1', family='Gamma', data=mtcars)\n",
    "summary = base.summary(fit)\n",
    "print(summary.rx2('coefficients'))\n"
   ]
  },
  {
   "cell_type": "markdown",
   "id": "69725b67",
   "metadata": {
    "slideshow": {
     "slide_type": "slide"
    }
   },
   "source": [
    "## The End\n",
    "\n",
    "We covered a lot today but the main take home points are:\n",
    "\n",
    "1) There are loads of libaraies available in python to manipulate, visualise and run statistical analysis on data.\n",
    "\n",
    "2) Pandas is important is get your head around as once data is in the correct format everything else is easier!\n",
    "\n",
    "3) Pick the right tool/package for the job."
   ]
  }
 ],
 "metadata": {
  "celltoolbar": "Slideshow",
  "kernelspec": {
   "display_name": "Python 3 (ipykernel)",
   "language": "python",
   "name": "python3"
  },
  "language_info": {
   "codemirror_mode": {
    "name": "ipython",
    "version": 3
   },
   "file_extension": ".py",
   "mimetype": "text/x-python",
   "name": "python",
   "nbconvert_exporter": "python",
   "pygments_lexer": "ipython3",
   "version": "3.9.7"
  }
 },
 "nbformat": 4,
 "nbformat_minor": 5
}
