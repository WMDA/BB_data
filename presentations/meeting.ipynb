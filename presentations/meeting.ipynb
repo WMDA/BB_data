{
 "cells": [
  {
   "cell_type": "code",
   "execution_count": 1,
   "metadata": {},
   "outputs": [],
   "source": [
    "from functions import data_functions as data\n",
    "import seaborn as sns"
   ]
  },
  {
   "cell_type": "code",
   "execution_count": 2,
   "metadata": {},
   "outputs": [],
   "source": [
    "dropindex = [72, 136, 138, 139, 141, 143, 144, 152, 156, 158, 159, 160, 176, 178, 181]\n",
    "df = data.data('questionnaire_data.csv','t2', clean=True, drop_index=dropindex)"
   ]
  },
  {
   "cell_type": "code",
   "execution_count": 4,
   "metadata": {},
   "outputs": [],
   "source": [
    "hc = df[df['7.'].str.contains('B1')]\n",
    "aan = df[df['7.'].str.contains('B2')]"
   ]
  },
  {
   "cell_type": "code",
   "execution_count": 5,
   "metadata": {},
   "outputs": [
    {
     "name": "stdout",
     "output_type": "stream",
     "text": [
      "Number of participants: 134\n",
      "Number of AAN participants is 95\n",
      "Number of HC participants is 39\n"
     ]
    }
   ],
   "source": [
    "print('Number of participants:', df.shape[0])\n",
    "print('Number of AAN participants is', aan.shape[0])\n",
    "print('Number of HC participants is', hc.shape[0])"
   ]
  }
 ],
 "metadata": {
  "interpreter": {
   "hash": "3d8d249037c454a3c5c4d5ca5bd7d691a5e26e3b374c1cc9a047e4dcb697a865"
  },
  "kernelspec": {
   "display_name": "Python 3.9.7 ('base')",
   "language": "python",
   "name": "python3"
  },
  "language_info": {
   "codemirror_mode": {
    "name": "ipython",
    "version": 3
   },
   "file_extension": ".py",
   "mimetype": "text/x-python",
   "name": "python",
   "nbconvert_exporter": "python",
   "pygments_lexer": "ipython3",
   "version": "3.9.5"
  },
  "orig_nbformat": 4
 },
 "nbformat": 4,
 "nbformat_minor": 2
}
