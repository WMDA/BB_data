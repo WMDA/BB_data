{
 "cells": [
  {
   "cell_type": "code",
   "execution_count": 1,
   "metadata": {
    "slideshow": {
     "slide_type": "skip"
    }
   },
   "outputs": [],
   "source": [
    "#Libraies for the tutorial\n",
    "import requests\n",
    "from traitlets.config.manager import BaseJSONConfigManager\n",
    "from pathlib import Path"
   ]
  },
  {
   "cell_type": "code",
   "execution_count": 6,
   "metadata": {
    "slideshow": {
     "slide_type": "skip"
    }
   },
   "outputs": [
    {
     "data": {
      "text/plain": [
       "{'theme': 'serif',\n",
       " 'transition': 'fade',\n",
       " 'start_slideshow_at': 'selected',\n",
       " 'overlay': \"<div class='myheader'><h2>BEACON PROJECT</div><div class='myfooter'></div>\",\n",
       " 'enable_chalkboard': 'true',\n",
       " 'leap_motion': {'naturalSwipe': True,\n",
       "  'pointerOpacity': 0.5,\n",
       "  'pointerColor': '#d80000'}}"
      ]
     },
     "execution_count": 6,
     "metadata": {},
     "output_type": "execute_result"
    }
   ],
   "source": [
    "#Presentation specific settings\n",
    "path = Path.home() / \".jupyter\" / \"nbconfig\"\n",
    "cm = BaseJSONConfigManager(config_dir=str(path))\n",
    "cm.update(\n",
    "    \"rise\",\n",
    "    {\n",
    "        \"theme\": \"serif\",\n",
    "        \"transition\": \"fade\",\n",
    "        \"start_slideshow_at\": \"selected\",\n",
    "         \"overlay\": \"<div class='myheader'><h2>BEACON PROJECT</div><div class='myfooter'></div>\",\n",
    "         \"enable_chalkboard\": \"true\"\n",
    "     }\n",
    ")"
   ]
  },
  {
   "cell_type": "markdown",
   "metadata": {
    "slideshow": {
     "slide_type": "slide"
    }
   },
   "source": [
    "# A Very Brief Overview of Python!\n",
    "\n",
    "![Alt text](https://mrnet.tech/activityHub/python/python.png \"a title\")\n",
    "\n",
    "This is a presentation to very briefly go over the basics of python, aimed at people with no experience in python/coding. \n",
    "\n",
    "This is **not** a comprehensive overview of all of python (that would be impossible in one presention!!) and will not make you into a programmer, so use this presentation and the notebook as a jumping off point.\n",
    "\n",
    "\n"
   ]
  },
  {
   "cell_type": "markdown",
   "metadata": {
    "slideshow": {
     "slide_type": "slide"
    }
   },
   "source": [
    "# Python Basics\n",
    "\n",
    "<img src=\"https://external-content.duckduckgo.com/iu/?u=https%3A%2F%2Fvscode-westeu.azurewebsites.net%2Fassets%2Fdocs%2Fpython%2Ftutorial%2Frun-python-file-in-terminal-button.png&f=1&nofb=1\" alt=\"drawing\" width=\"1000\"/>\n",
    "\n"
   ]
  },
  {
   "cell_type": "markdown",
   "metadata": {
    "slideshow": {
     "slide_type": "slide"
    }
   },
   "source": [
    "## What is Python?\n",
    "\n",
    "Python is a high level scripting language that is everywhere and can do (nearly) everything from AI to network automation and web development. \n",
    "\n",
    "Python is also ***the*** tool of choice (sorry R for the very subjective opinon) for data analysis/data science due to its vast libraries, ease of use and robustness. It is open source (free!!) unlike other programmes such as stata/spss, so code can easily be reviewed, replicated and shared with other people!"
   ]
  },
  {
   "cell_type": "markdown",
   "metadata": {
    "slideshow": {
     "slide_type": "subslide"
    }
   },
   "source": [
    "## How does Python Work?\n",
    "\n",
    "Python works by you writing text commands into a script (called a .py or .ipynb file). The computer will interpret the script (via the python intrepreter) into a format it can understand and runs whatever commands you asked it to. \n",
    "\n",
    "In the next slide I have typed for python to print (write out to the screen) the words hello world. "
   ]
  },
  {
   "cell_type": "code",
   "execution_count": 27,
   "metadata": {
    "slideshow": {
     "slide_type": "subslide"
    }
   },
   "outputs": [
    {
     "name": "stdout",
     "output_type": "stream",
     "text": [
      "Hello World\n"
     ]
    }
   ],
   "source": [
    "print('Hello World')"
   ]
  },
  {
   "cell_type": "markdown",
   "metadata": {
    "slideshow": {
     "slide_type": "subslide"
    }
   },
   "source": [
    "If python cannot understand what you have typed it will throw up an error message, which is often very useful to read as it says what went wrong. \n",
    "\n",
    "In the next slide I have asked python to run Println, but it has no idea what it is so throws up an error message!"
   ]
  },
  {
   "cell_type": "code",
   "execution_count": 28,
   "metadata": {
    "slideshow": {
     "slide_type": "subslide"
    }
   },
   "outputs": [
    {
     "name": "stdout",
     "output_type": "stream",
     "text": [
      "name 'Println' is not defined\n"
     ]
    }
   ],
   "source": [
    "try:\n",
    "    Println('hello')\n",
    "    \n",
    "except Exception as e:\n",
    "    print(e)"
   ]
  },
  {
   "cell_type": "markdown",
   "metadata": {
    "slideshow": {
     "slide_type": "slide"
    }
   },
   "source": [
    "# Going deeper - Variables \n",
    "\n",
    "<img src=\"https://i.pinimg.com/originals/8d/03/af/8d03afc92c933410db3ff92e1397aa7c.jpg\" alt=\"drawing\" width=\"500\"/>"
   ]
  },
  {
   "cell_type": "markdown",
   "metadata": {
    "slideshow": {
     "slide_type": "subslide"
    }
   },
   "source": [
    "## Variables\n",
    "\n",
    "Variables are symbolic names (x, my_variable etc) that hold data/bits of code. \n",
    "\n",
    "Think back to algebra how letters can contain numbers (for example x = 2 in the formula x + 8 = 10).\n",
    "\n",
    "In python variables are created with the ```=``` sign and can (nearly) be called anything you want! \n",
    "\n",
    "Remember code is read much more often than it is written. Make sure the variable name makes sense to someone reading your code, there is nothing worse than a variable called x_1."
   ]
  },
  {
   "cell_type": "code",
   "execution_count": 15,
   "metadata": {
    "scrolled": true,
    "slideshow": {
     "slide_type": "subslide"
    }
   },
   "outputs": [
    {
     "name": "stdout",
     "output_type": "stream",
     "text": [
      "1\n"
     ]
    }
   ],
   "source": [
    "variable_1 = 1\n",
    "variable_2 = 2\n",
    "\n",
    "print(variable_1)"
   ]
  },
  {
   "cell_type": "markdown",
   "metadata": {
    "slideshow": {
     "slide_type": "subslide"
    }
   },
   "source": [
    "Variables don't have to contain simple numbers. They can contain any type of data!"
   ]
  },
  {
   "cell_type": "code",
   "execution_count": 18,
   "metadata": {
    "scrolled": true,
    "slideshow": {
     "slide_type": "subslide"
    }
   },
   "outputs": [
    {
     "name": "stdout",
     "output_type": "stream",
     "text": [
      "Hello \n",
      "\n",
      "0.9 \n",
      "\n",
      "106.66666666666666 \n",
      "\n",
      "Status code for google.com: 200 \n",
      "\n"
     ]
    }
   ],
   "source": [
    "string_variable = 'Hello'\n",
    "print(string_variable,'\\n')\n",
    "\n",
    "float_variable = 0.9\n",
    "print(float_variable, '\\n')\n",
    "\n",
    "complex_variable = 2/3 * 100 + 40\n",
    "print(complex_variable,'\\n')\n",
    "\n",
    "google_variable = requests.get('https://www.google.co.uk/').status_code\n",
    "print('Status code for google.com:', google_variable,'\\n')"
   ]
  },
  {
   "cell_type": "markdown",
   "metadata": {
    "slideshow": {
     "slide_type": "subslide"
    }
   },
   "source": [
    "But why use variables? \n",
    "\n",
    "The data contained in variables can be manipulated and passed to other parts of the script. \n",
    "\n",
    "We have already been passing variables to other parts of the script by passing the variable to the print statment.\n",
    "\n",
    "Variables can also be changed in python, so as the script grows variables can be changed as needed."
   ]
  },
  {
   "cell_type": "code",
   "execution_count": 20,
   "metadata": {
    "slideshow": {
     "slide_type": "subslide"
    }
   },
   "outputs": [
    {
     "name": "stdout",
     "output_type": "stream",
     "text": [
      "hello \n",
      "\n",
      "I've changed! \n",
      "\n",
      "30\n"
     ]
    }
   ],
   "source": [
    "changeable_variable = 'hello'\n",
    "print(changeable_variable, '\\n')\n",
    "\n",
    "changeable_variable = \"I've changed!\"\n",
    "print(changeable_variable, '\\n')\n",
    "\n",
    "number_1 = 10\n",
    "number_2 = 20\n",
    "sum_of_variables = number_1 + number_2\n",
    "print(sum_of_variables)"
   ]
  },
  {
   "cell_type": "markdown",
   "metadata": {
    "slideshow": {
     "slide_type": "slide"
    }
   },
   "source": [
    "# Going Deeper Data Types\n",
    "\n",
    "<img src=\"https://i.pinimg.com/originals/19/03/89/190389a39a94fec503d9d584d96bb020.jpg\" alt=\"drawing\" width=\"500\"/>\n"
   ]
  },
  {
   "cell_type": "markdown",
   "metadata": {
    "slideshow": {
     "slide_type": "subslide"
    }
   },
   "source": [
    "## Data \n",
    "\n",
    "Data in python comes in three different types: \n",
    "\n",
    "1. string type which is  letters and numbers enclosed in ```\" \" ``` or ```' ' ```  \n",
    "2. int type which are numbers\n",
    "3. float are numbers with decimal points"
   ]
  },
  {
   "cell_type": "code",
   "execution_count": 3,
   "metadata": {
    "slideshow": {
     "slide_type": "subslide"
    }
   },
   "outputs": [],
   "source": [
    "number = 1\n",
    "string = '1'\n",
    "floating_point = 1.0"
   ]
  },
  {
   "cell_type": "markdown",
   "metadata": {
    "slideshow": {
     "slide_type": "subslide"
    }
   },
   "source": [
    "Data types are important as python will only let you do certain things with certain data types (trying to add an int to a string is a big no no!)\n",
    "\n",
    "It is always important to check the data type of a variable. This can be done using the ```type()``` statement. "
   ]
  },
  {
   "cell_type": "code",
   "execution_count": 29,
   "metadata": {
    "slideshow": {
     "slide_type": "subslide"
    }
   },
   "outputs": [
    {
     "name": "stdout",
     "output_type": "stream",
     "text": [
      "<class 'int'>\n",
      "<class 'str'>\n",
      "<class 'float'>\n"
     ]
    }
   ],
   "source": [
    "number = 1\n",
    "string = '1'\n",
    "floating_point = 1.0\n",
    "\n",
    "print(type(number))\n",
    "print(type(string))\n",
    "print(type(floating_point))"
   ]
  },
  {
   "cell_type": "code",
   "execution_count": 23,
   "metadata": {
    "slideshow": {
     "slide_type": "subslide"
    }
   },
   "outputs": [
    {
     "name": "stdout",
     "output_type": "stream",
     "text": [
      "unsupported operand type(s) for +: 'int' and 'str'\n"
     ]
    }
   ],
   "source": [
    "number = 1\n",
    "string = '1'\n",
    "\n",
    "try:\n",
    "    number + string\n",
    "    \n",
    "except Exception as e:\n",
    "    print(e)"
   ]
  },
  {
   "cell_type": "code",
   "execution_count": 31,
   "metadata": {
    "scrolled": false,
    "slideshow": {
     "slide_type": "subslide"
    }
   },
   "outputs": [
    {
     "name": "stdout",
     "output_type": "stream",
     "text": [
      "10.0 \n",
      "\n",
      "HelloHelloHelloHelloHelloHelloHelloHelloHelloHello\n"
     ]
    }
   ],
   "source": [
    "number = 10\n",
    "string = 'Hello'\n",
    "floating_point = 1.0\n",
    "\n",
    "print(number * floating_point, '\\n')\n",
    "print(string * number)"
   ]
  },
  {
   "cell_type": "markdown",
   "metadata": {
    "slideshow": {
     "slide_type": "slide"
    }
   },
   "source": [
    "## Going deeper - Lists and Dictionaries\n",
    "\n",
    "<img src=\"https://external-content.duckduckgo.com/iu/?u=https%3A%2F%2Fi.pinimg.com%2F736x%2F1b%2F58%2Ff4%2F1b58f41e4f7668edb26420f8cadab895.jpg&f=1&nofb=1\" alt=\"drawing\" width=\"500\"/>\n",
    "\n",
    "\n"
   ]
  },
  {
   "cell_type": "markdown",
   "metadata": {
    "slideshow": {
     "slide_type": "subslide"
    }
   },
   "source": [
    "## Lists \n",
    "\n",
    "Python has the ability to store data in a list. Lists are an ordered collection of data that can be accessed by using ```[ ]```. \n",
    "\n",
    "Lists can contain a mixture of any types of data. \n"
   ]
  },
  {
   "cell_type": "code",
   "execution_count": 3,
   "metadata": {
    "slideshow": {
     "slide_type": "subslide"
    }
   },
   "outputs": [
    {
     "name": "stdout",
     "output_type": "stream",
     "text": [
      "4 \n",
      "\n",
      "hello\n"
     ]
    }
   ],
   "source": [
    "list_of_numbers = [1, 2, 3, 4, 5]\n",
    "mixed_list = ['hello', 3, 4.0]\n",
    "print(list_of_numbers[3], '\\n')\n",
    "print(mixed_list[0])"
   ]
  },
  {
   "cell_type": "markdown",
   "metadata": {
    "slideshow": {
     "slide_type": "subslide"
    }
   },
   "source": [
    "## Dictionaries\n",
    "\n",
    "Dictionaries are a bit more complex as they have a key and a value pair. The key acts as the location to the data and data is accessed by using the key. The key can be any data type. "
   ]
  },
  {
   "cell_type": "code",
   "execution_count": 5,
   "metadata": {
    "slideshow": {
     "slide_type": "subslide"
    }
   },
   "outputs": [
    {
     "name": "stdout",
     "output_type": "stream",
     "text": [
      "hello 1\n"
     ]
    }
   ],
   "source": [
    "my_dictionary = { \n",
    "    'string_key': 'hello',\n",
    "     0.9: 1\n",
    "     }\n",
    "\n",
    "print(my_dictionary['string_key'], my_dictionary[0.9])"
   ]
  },
  {
   "cell_type": "markdown",
   "metadata": {
    "slideshow": {
     "slide_type": "slide"
    }
   },
   "source": [
    "## Going deeper - logic and loops\n",
    "\n",
    "<img src=\"https://i.pinimg.com/originals/22/ec/2f/22ec2f7eec2ecfd7ed5e6d080c4a47fa.jpg\" alt=\"drawing\" width=\"500\"/>\n",
    "\n"
   ]
  },
  {
   "cell_type": "markdown",
   "metadata": {
    "slideshow": {
     "slide_type": "subslide"
    }
   },
   "source": [
    "## Logic\n",
    "\n",
    "Python supports logic statements. The simplest is the *if/elif/else* statement. \n",
    "\n",
    "The *if* statement will run code if a condition is met. If the condition is not met python will move to the next statement (the *elif* statement) and sees if this condition is met. If it is not then it will move onto the *else* statement and execute this. The *else* statement will always execute if none of the other conditions are met."
   ]
  },
  {
   "cell_type": "code",
   "execution_count": 33,
   "metadata": {
    "slideshow": {
     "slide_type": "subslide"
    }
   },
   "outputs": [
    {
     "name": "stdout",
     "output_type": "stream",
     "text": [
      "10 is equal to 10\n"
     ]
    }
   ],
   "source": [
    "x = 10\n",
    "\n",
    "if x < 10:\n",
    "    print(f'{x} is less than 10')\n",
    "elif x > 10:\n",
    "    print(f'{x} is greater than 10')\n",
    "else:\n",
    "    print(f'{x} is equal to 10')"
   ]
  },
  {
   "cell_type": "markdown",
   "metadata": {
    "slideshow": {
     "slide_type": "subslide"
    }
   },
   "source": [
    "## For loops\n",
    "\n",
    "For loops in python are used to loop over something (a set of numbers, a list, a dictionary, a column in a dataframe) and do some code.\n",
    "\n",
    "This can be very useful when we want to manipulate a large amount of values."
   ]
  },
  {
   "cell_type": "code",
   "execution_count": 35,
   "metadata": {
    "slideshow": {
     "slide_type": "subslide"
    }
   },
   "outputs": [
    {
     "name": "stdout",
     "output_type": "stream",
     "text": [
      "0\n",
      "1\n",
      "2\n",
      "3\n",
      "4\n"
     ]
    }
   ],
   "source": [
    "for number in range(0,5):\n",
    "    print(number)"
   ]
  },
  {
   "cell_type": "code",
   "execution_count": 36,
   "metadata": {
    "scrolled": true,
    "slideshow": {
     "slide_type": "subslide"
    }
   },
   "outputs": [
    {
     "name": "stdout",
     "output_type": "stream",
     "text": [
      "0\n",
      "1\n",
      "4\n",
      "9\n",
      "16\n"
     ]
    }
   ],
   "source": [
    "list_of_numbers = [0, 1, 2, 3, 4]\n",
    "\n",
    "for number in list_of_numbers:\n",
    "    print(number * number)"
   ]
  },
  {
   "cell_type": "markdown",
   "metadata": {
    "slideshow": {
     "slide_type": "slide"
    }
   },
   "source": [
    "## Conclusion\n",
    "\n",
    "Python works by typing commands into scripts which are intrepreted by the computer\n",
    "\n",
    "Data comes in three different types string, int and float and is stored in variables.\n",
    "\n",
    "Lists and dictionaries can also hold lots of data and are also assigned to variables.\n",
    "\n",
    "We can use logic statements to excute code if conditions are met as well as loop over data to run code. "
   ]
  },
  {
   "cell_type": "markdown",
   "metadata": {
    "slideshow": {
     "slide_type": "subslide"
    }
   },
   "source": [
    "<img src=\"https://i1.wp.com/cleus.co/wp-content/uploads/2019/03/Screenshot-2019-03-14-at-4.18.58-PM.png?resize=1000%2C773&ssl=1\" alt=\"drawing\" width=\"500\"/>\n",
    "\n",
    "Python is complex and this was only a short tour of very basic python. There are lots of videos online explaining python deeper if that is what you want to go further. Otherwise I hope you have a basic idea of what python can do!"
   ]
  }
 ],
 "metadata": {
  "celltoolbar": "Slideshow",
  "interpreter": {
   "hash": "d6aaeafbb34bd8ccb4b94759bad6d8a43f22b1f97d06ebd89ca25d302d210f79"
  },
  "kernelspec": {
   "display_name": "Python 3 (ipykernel)",
   "language": "python",
   "name": "python3"
  },
  "language_info": {
   "codemirror_mode": {
    "name": "ipython",
    "version": 3
   },
   "file_extension": ".py",
   "mimetype": "text/x-python",
   "name": "python",
   "nbconvert_exporter": "python",
   "pygments_lexer": "ipython3",
   "version": "3.9.7"
  }
 },
 "nbformat": 4,
 "nbformat_minor": 2
}
