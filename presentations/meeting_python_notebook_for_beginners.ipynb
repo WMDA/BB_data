{
 "cells": [
  {
   "cell_type": "code",
   "execution_count": 9,
   "metadata": {
    "slideshow": {
     "slide_type": "skip"
    }
   },
   "outputs": [],
   "source": [
    "#Libraies for the tutorial\n",
    "import requests"
   ]
  },
  {
   "cell_type": "markdown",
   "metadata": {
    "slideshow": {
     "slide_type": "slide"
    }
   },
   "source": [
    "# Learning python\n",
    "\n",
    "This is a notebook to very quickly go over the basics of python for people with no experience in python and want to get into data analysis. This is **not** a comprehensive overview of all of python (that would be impossible in one notebook) so use this notebook as a jumping off point.\n"
   ]
  },
  {
   "cell_type": "markdown",
   "metadata": {
    "slideshow": {
     "slide_type": "slide"
    }
   },
   "source": [
    "## What is python?\n",
    "\n",
    "Python is a high level scripting language that is everywhere and can do (nearly) everything from AI to network automation and web development. \n",
    "\n",
    "Python is **the** tool of choice (sorry R) for data analysis/data science due to its vast libaries, ease of use and robustness. It is open source (free) unlike other programmes such as stata/spss, so code can easily be reviewed, replicated and shared with other people!"
   ]
  },
  {
   "cell_type": "markdown",
   "metadata": {
    "slideshow": {
     "slide_type": "slide"
    }
   },
   "source": [
    "## Python basics\n",
    "\n",
    "Python works by you writing text commands into a script (called a .py or .ipynb file). The computer will intrepret the script (via the python intrepreter) into a format it can understand and run whatever commands you asked it to. \n",
    "\n",
    "Below I have typed for python to print (write out to the screen) the word hello. "
   ]
  },
  {
   "cell_type": "code",
   "execution_count": 1,
   "metadata": {
    "slideshow": {
     "slide_type": "slide"
    }
   },
   "outputs": [
    {
     "name": "stdout",
     "output_type": "stream",
     "text": [
      "hello\n"
     ]
    }
   ],
   "source": [
    "print('hello')"
   ]
  },
  {
   "cell_type": "markdown",
   "metadata": {
    "slideshow": {
     "slide_type": "subslide"
    }
   },
   "source": [
    "If python cannot understand what you have typed it will throw up an error message, which is often very useful to read as it says what went wrong. \n",
    "\n",
    "Below I have asked python to println, but it has no idea what it is so throws up an error message!"
   ]
  },
  {
   "cell_type": "code",
   "execution_count": 3,
   "metadata": {
    "slideshow": {
     "slide_type": "subslide"
    }
   },
   "outputs": [
    {
     "ename": "NameError",
     "evalue": "name 'println' is not defined",
     "output_type": "error",
     "traceback": [
      "\u001b[0;31m---------------------------------------------------------------------------\u001b[0m",
      "\u001b[0;31mNameError\u001b[0m                                 Traceback (most recent call last)",
      "\u001b[1;32m/home/wmda/Codes/work/BB_data/presentations/meeting_python_notebook_for_beginners.ipynb Cell 6'\u001b[0m in \u001b[0;36m<cell line: 1>\u001b[0;34m()\u001b[0m\n\u001b[0;32m----> <a href='vscode-notebook-cell:/home/wmda/Codes/work/BB_data/presentations/meeting_python_notebook_for_beginners.ipynb#ch0000019?line=0'>1</a>\u001b[0m println(\u001b[39m'\u001b[39m\u001b[39mhello\u001b[39m\u001b[39m'\u001b[39m)\n",
      "\u001b[0;31mNameError\u001b[0m: name 'println' is not defined"
     ]
    }
   ],
   "source": [
    "println('hello')"
   ]
  },
  {
   "cell_type": "markdown",
   "metadata": {
    "slideshow": {
     "slide_type": "slide"
    }
   },
   "source": [
    "## Variables\n",
    "\n",
    "Variables are symbolic names (x, my_variable etc) that contain values/bits of code. Think back to algebra how letters can contain numbers (x = 2 in the formula x + 8 = 10).\n",
    "\n",
    "In python variables are created with the ```=``` sign and can be (nearly) called anything you want! (But make sure the variable name makes sense, there is nothing worse than a variable called x_1)"
   ]
  },
  {
   "cell_type": "code",
   "execution_count": 5,
   "metadata": {
    "slideshow": {
     "slide_type": "slide"
    }
   },
   "outputs": [
    {
     "name": "stdout",
     "output_type": "stream",
     "text": [
      "1\n"
     ]
    }
   ],
   "source": [
    "variable_1 = 1\n",
    "variable_2 = 2\n",
    "\n",
    "print(variable_1)"
   ]
  },
  {
   "cell_type": "markdown",
   "metadata": {
    "slideshow": {
     "slide_type": "subslide"
    }
   },
   "source": [
    "Variables don't have to contain a simple number. They can contain any type of data!"
   ]
  },
  {
   "cell_type": "code",
   "execution_count": 1,
   "metadata": {
    "slideshow": {
     "slide_type": "subslide"
    }
   },
   "outputs": [
    {
     "name": "stdout",
     "output_type": "stream",
     "text": [
      "Hello\n",
      "0.9\n",
      "106.66666666666666\n"
     ]
    },
    {
     "ename": "NameError",
     "evalue": "name 'requests' is not defined",
     "output_type": "error",
     "traceback": [
      "\u001b[0;31m---------------------------------------------------------------------------\u001b[0m",
      "\u001b[0;31mNameError\u001b[0m                                 Traceback (most recent call last)",
      "\u001b[0;32m/tmp/ipykernel_21034/4140045709.py\u001b[0m in \u001b[0;36m<module>\u001b[0;34m\u001b[0m\n\u001b[1;32m      9\u001b[0m \u001b[0mprint\u001b[0m\u001b[0;34m(\u001b[0m\u001b[0mcomplex_variable\u001b[0m\u001b[0;34m)\u001b[0m\u001b[0;34m\u001b[0m\u001b[0;34m\u001b[0m\u001b[0m\n\u001b[1;32m     10\u001b[0m \u001b[0;34m\u001b[0m\u001b[0m\n\u001b[0;32m---> 11\u001b[0;31m \u001b[0mgoogle_variable\u001b[0m \u001b[0;34m=\u001b[0m \u001b[0mrequests\u001b[0m\u001b[0;34m.\u001b[0m\u001b[0mget\u001b[0m\u001b[0;34m(\u001b[0m\u001b[0;34m'https://www.google.co.uk/'\u001b[0m\u001b[0;34m)\u001b[0m\u001b[0;34m.\u001b[0m\u001b[0mstatus_code\u001b[0m\u001b[0;34m\u001b[0m\u001b[0;34m\u001b[0m\u001b[0m\n\u001b[0m\u001b[1;32m     12\u001b[0m \u001b[0mprint\u001b[0m\u001b[0;34m(\u001b[0m\u001b[0mgoogle_variable\u001b[0m\u001b[0;34m)\u001b[0m\u001b[0;34m\u001b[0m\u001b[0;34m\u001b[0m\u001b[0m\n",
      "\u001b[0;31mNameError\u001b[0m: name 'requests' is not defined"
     ]
    }
   ],
   "source": [
    "string_variable = 'Hello'\n",
    "print(string_variable)\n",
    "\n",
    "float_variable = 0.9\n",
    "print(float_variable)\n",
    "\n",
    "complex_variable = 2/3 * 100 + 40\n",
    "\n",
    "print(complex_variable)\n",
    "\n",
    "google_variable = requests.get('https://www.google.co.uk/').status_code\n",
    "print(google_variable)"
   ]
  },
  {
   "cell_type": "markdown",
   "metadata": {
    "slideshow": {
     "slide_type": "subslide"
    }
   },
   "source": [
    "But why use variables? \n",
    "\n",
    "The data contained in variables can be manipulated and passed to other parts of the script. \n",
    "\n",
    "We have already been passing the value of variables to other parts of the script by passing the variable to the print statment!\n",
    "\n",
    "Variables can also be changed in python, so as the script grows variables can be changed as needed!"
   ]
  },
  {
   "cell_type": "code",
   "execution_count": 17,
   "metadata": {
    "slideshow": {
     "slide_type": "subslide"
    }
   },
   "outputs": [
    {
     "name": "stdout",
     "output_type": "stream",
     "text": [
      "hello\n",
      "I've changed!\n",
      "30\n"
     ]
    }
   ],
   "source": [
    "changeable_variable = 'hello'\n",
    "print(changeable_variable)\n",
    "\n",
    "changeable_variable = \"I've changed!\"\n",
    "print(changeable_variable)\n",
    "\n",
    "number_1 = 10\n",
    "number_2 = 20\n",
    "sum = number_1 + number_2\n",
    "print(sum)"
   ]
  },
  {
   "cell_type": "markdown",
   "metadata": {
    "slideshow": {
     "slide_type": "slide"
    }
   },
   "source": [
    "## Data \n",
    "\n",
    "Data in python comes in three different types: \n",
    "\n",
    "1. string which is  letters and numbers enclosed in ```\" \" ``` or ```' ' ```  \n",
    "2. numbers called int type and \n",
    "3. floating numbers called float."
   ]
  },
  {
   "cell_type": "code",
   "execution_count": 22,
   "metadata": {
    "slideshow": {
     "slide_type": "slide"
    }
   },
   "outputs": [],
   "source": [
    "number = 10\n",
    "string = '1'\n",
    "floating_point = 1.0"
   ]
  },
  {
   "cell_type": "markdown",
   "metadata": {
    "slideshow": {
     "slide_type": "subslide"
    }
   },
   "source": [
    "Data types are important as python will only let you do certain things (trying to add an int to a string is a big no no!)\n",
    "\n",
    "It is always important to check the data type of a variable using the ```type()``` statment. "
   ]
  },
  {
   "cell_type": "code",
   "execution_count": 25,
   "metadata": {
    "slideshow": {
     "slide_type": "subslide"
    }
   },
   "outputs": [
    {
     "name": "stdout",
     "output_type": "stream",
     "text": [
      "<class 'str'>\n",
      "<class 'int'>\n",
      "<class 'float'>\n"
     ]
    }
   ],
   "source": [
    "print(type(string))\n",
    "print(type(number))\n",
    "print(type(floating_point))"
   ]
  },
  {
   "cell_type": "code",
   "execution_count": 20,
   "metadata": {
    "slideshow": {
     "slide_type": "subslide"
    }
   },
   "outputs": [
    {
     "ename": "TypeError",
     "evalue": "unsupported operand type(s) for +: 'int' and 'str'",
     "output_type": "error",
     "traceback": [
      "\u001b[0;31m---------------------------------------------------------------------------\u001b[0m",
      "\u001b[0;31mTypeError\u001b[0m                                 Traceback (most recent call last)",
      "\u001b[1;32m/home/wmda/Codes/work/BB_data/presentations/meeting_python_notebook_for_beginners.ipynb Cell 17'\u001b[0m in \u001b[0;36m<cell line: 1>\u001b[0;34m()\u001b[0m\n\u001b[0;32m----> <a href='vscode-notebook-cell:/home/wmda/Codes/work/BB_data/presentations/meeting_python_notebook_for_beginners.ipynb#ch0000031?line=0'>1</a>\u001b[0m number \u001b[39m+\u001b[39;49m string\n",
      "\u001b[0;31mTypeError\u001b[0m: unsupported operand type(s) for +: 'int' and 'str'"
     ]
    }
   ],
   "source": [
    "number + string"
   ]
  },
  {
   "cell_type": "code",
   "execution_count": 23,
   "metadata": {
    "slideshow": {
     "slide_type": "subslide"
    }
   },
   "outputs": [
    {
     "name": "stdout",
     "output_type": "stream",
     "text": [
      "10.0\n",
      "1111111111\n"
     ]
    }
   ],
   "source": [
    "print(number * floating_point)\n",
    "print(string * number)"
   ]
  },
  {
   "cell_type": "markdown",
   "metadata": {
    "slideshow": {
     "slide_type": "slide"
    }
   },
   "source": [
    "## Lists and dictionaries\n",
    "\n",
    "Python has the ability to store data in a list. Lists are an ordered collection of data that can be accessed by using ```[ ]```. \n",
    "\n",
    "Lists can contain a mixture of any types of data. \n"
   ]
  },
  {
   "cell_type": "code",
   "execution_count": 27,
   "metadata": {
    "slideshow": {
     "slide_type": "slide"
    }
   },
   "outputs": [
    {
     "name": "stdout",
     "output_type": "stream",
     "text": [
      "1\n",
      "hello\n"
     ]
    }
   ],
   "source": [
    "list_of_numbers = [1,2,3,4,5]\n",
    "mixed_list = ['hello', 3, 4.0]\n",
    "print(list_of_numbers[0])\n",
    "print(mixed_list[0])"
   ]
  },
  {
   "cell_type": "markdown",
   "metadata": {
    "slideshow": {
     "slide_type": "subslide"
    }
   },
   "source": [
    "Dictionaries are a bit more complex as they have a key and a value pair. The key acts as the location to the data and data is accessed by accessing the key. The key can be any data type. "
   ]
  },
  {
   "cell_type": "code",
   "execution_count": 31,
   "metadata": {
    "slideshow": {
     "slide_type": "subslide"
    }
   },
   "outputs": [
    {
     "name": "stdout",
     "output_type": "stream",
     "text": [
      "1 20\n"
     ]
    }
   ],
   "source": [
    "my_dictionary = { \n",
    "    'Number_value': 20,\n",
    "    0:1\n",
    "}\n",
    "\n",
    "print(my_dictionary[0], my_dictionary['Number_value'])"
   ]
  },
  {
   "cell_type": "markdown",
   "metadata": {
    "slideshow": {
     "slide_type": "slide"
    }
   },
   "source": [
    "## Logic\n",
    "\n",
    "Python supports logic statement. The simplest is the if/elif/else statement. \n",
    "\n",
    "The if statment will run code if a condition is met. If the condition is not met python will move to the next statment (the elif statment) and see if the condition is met. If it is not then it will move onto the else statment and excute this. The else statment will always excute if none of the other conditions are met."
   ]
  },
  {
   "cell_type": "code",
   "execution_count": 33,
   "metadata": {
    "slideshow": {
     "slide_type": "slide"
    }
   },
   "outputs": [
    {
     "name": "stdout",
     "output_type": "stream",
     "text": [
      "10 is equal to 10\n"
     ]
    }
   ],
   "source": [
    "x = 10\n",
    "if x < 10:\n",
    "    print(f'{x} is less than 10')\n",
    "elif x > 10:\n",
    "    print(f'{x} is greater than 10')\n",
    "else:\n",
    "    print(f'{x} is equal to 10')"
   ]
  },
  {
   "cell_type": "markdown",
   "metadata": {
    "slideshow": {
     "slide_type": "slide"
    }
   },
   "source": [
    "## For loops\n",
    "\n",
    "For loops in python are used to loop over something (a set of numbers, a list, a dictionary, a column in a dataframe) and do some code.\n",
    "\n",
    "It is extremely useful when we need to loop over something and do a "
   ]
  },
  {
   "cell_type": "code",
   "execution_count": 6,
   "metadata": {
    "slideshow": {
     "slide_type": "slide"
    }
   },
   "outputs": [
    {
     "name": "stdout",
     "output_type": "stream",
     "text": [
      "0\n",
      "1\n",
      "2\n",
      "3\n",
      "4\n"
     ]
    }
   ],
   "source": [
    "for number in range(0,5):\n",
    "    print(number)"
   ]
  }
 ],
 "metadata": {
  "celltoolbar": "Slideshow",
  "kernelspec": {
   "display_name": "Python 3.9.5 ('venv': venv)",
   "language": "python",
   "name": "python3"
  },
  "language_info": {
   "codemirror_mode": {
    "name": "ipython",
    "version": 3
   },
   "file_extension": ".py",
   "mimetype": "text/x-python",
   "name": "python",
   "nbconvert_exporter": "python",
   "pygments_lexer": "ipython3",
   "version": "3.9.5"
  },
  "vscode": {
   "interpreter": {
    "hash": "8a06586765024df0bc086458479a591587d2bd5ad846f30e1f0ea886304492ea"
   }
  }
 },
 "nbformat": 4,
 "nbformat_minor": 2
}
